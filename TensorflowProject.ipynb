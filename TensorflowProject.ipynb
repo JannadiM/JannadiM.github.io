{
 "cells": [
  {
   "cell_type": "markdown",
   "metadata": {},
   "source": [
    "## CLASSIFICATION EXAMPLE"
   ]
  },
  {
   "cell_type": "markdown",
   "metadata": {},
   "source": [
    "### -Jannadi Makrem-"
   ]
  },
  {
   "cell_type": "markdown",
   "metadata": {},
   "source": [
    "##### We'll be working with some California Census Data, we'll be trying to use various features of an individual to predict what class of income they belong in (>50k or <=50k)."
   ]
  },
  {
   "cell_type": "markdown",
   "metadata": {},
   "source": [
    "#### The Data:"
   ]
  },
  {
   "cell_type": "code",
   "execution_count": 8,
   "metadata": {
    "collapsed": true
   },
   "outputs": [],
   "source": [
    "import pandas as pd"
   ]
  },
  {
   "cell_type": "code",
   "execution_count": 10,
   "metadata": {
    "collapsed": true
   },
   "outputs": [],
   "source": [
    "census = pd.read_csv(\"C:/Users/DELL/Tensorflow_Project/census_data.csv\")"
   ]
  },
  {
   "cell_type": "code",
   "execution_count": 11,
   "metadata": {},
   "outputs": [
    {
     "data": {
      "text/html": [
       "<div>\n",
       "<style>\n",
       "    .dataframe thead tr:only-child th {\n",
       "        text-align: right;\n",
       "    }\n",
       "\n",
       "    .dataframe thead th {\n",
       "        text-align: left;\n",
       "    }\n",
       "\n",
       "    .dataframe tbody tr th {\n",
       "        vertical-align: top;\n",
       "    }\n",
       "</style>\n",
       "<table border=\"1\" class=\"dataframe\">\n",
       "  <thead>\n",
       "    <tr style=\"text-align: right;\">\n",
       "      <th></th>\n",
       "      <th>age</th>\n",
       "      <th>workclass</th>\n",
       "      <th>education</th>\n",
       "      <th>education_num</th>\n",
       "      <th>marital_status</th>\n",
       "      <th>occupation</th>\n",
       "      <th>relationship</th>\n",
       "      <th>race</th>\n",
       "      <th>gender</th>\n",
       "      <th>capital_gain</th>\n",
       "      <th>capital_loss</th>\n",
       "      <th>hours_per_week</th>\n",
       "      <th>native_country</th>\n",
       "      <th>income_bracket</th>\n",
       "    </tr>\n",
       "  </thead>\n",
       "  <tbody>\n",
       "    <tr>\n",
       "      <th>0</th>\n",
       "      <td>39</td>\n",
       "      <td>State-gov</td>\n",
       "      <td>Bachelors</td>\n",
       "      <td>13</td>\n",
       "      <td>Never-married</td>\n",
       "      <td>Adm-clerical</td>\n",
       "      <td>Not-in-family</td>\n",
       "      <td>White</td>\n",
       "      <td>Male</td>\n",
       "      <td>2174</td>\n",
       "      <td>0</td>\n",
       "      <td>40</td>\n",
       "      <td>United-States</td>\n",
       "      <td>&lt;=50K</td>\n",
       "    </tr>\n",
       "    <tr>\n",
       "      <th>1</th>\n",
       "      <td>50</td>\n",
       "      <td>Self-emp-not-inc</td>\n",
       "      <td>Bachelors</td>\n",
       "      <td>13</td>\n",
       "      <td>Married-civ-spouse</td>\n",
       "      <td>Exec-managerial</td>\n",
       "      <td>Husband</td>\n",
       "      <td>White</td>\n",
       "      <td>Male</td>\n",
       "      <td>0</td>\n",
       "      <td>0</td>\n",
       "      <td>13</td>\n",
       "      <td>United-States</td>\n",
       "      <td>&lt;=50K</td>\n",
       "    </tr>\n",
       "    <tr>\n",
       "      <th>2</th>\n",
       "      <td>38</td>\n",
       "      <td>Private</td>\n",
       "      <td>HS-grad</td>\n",
       "      <td>9</td>\n",
       "      <td>Divorced</td>\n",
       "      <td>Handlers-cleaners</td>\n",
       "      <td>Not-in-family</td>\n",
       "      <td>White</td>\n",
       "      <td>Male</td>\n",
       "      <td>0</td>\n",
       "      <td>0</td>\n",
       "      <td>40</td>\n",
       "      <td>United-States</td>\n",
       "      <td>&lt;=50K</td>\n",
       "    </tr>\n",
       "    <tr>\n",
       "      <th>3</th>\n",
       "      <td>53</td>\n",
       "      <td>Private</td>\n",
       "      <td>11th</td>\n",
       "      <td>7</td>\n",
       "      <td>Married-civ-spouse</td>\n",
       "      <td>Handlers-cleaners</td>\n",
       "      <td>Husband</td>\n",
       "      <td>Black</td>\n",
       "      <td>Male</td>\n",
       "      <td>0</td>\n",
       "      <td>0</td>\n",
       "      <td>40</td>\n",
       "      <td>United-States</td>\n",
       "      <td>&lt;=50K</td>\n",
       "    </tr>\n",
       "    <tr>\n",
       "      <th>4</th>\n",
       "      <td>28</td>\n",
       "      <td>Private</td>\n",
       "      <td>Bachelors</td>\n",
       "      <td>13</td>\n",
       "      <td>Married-civ-spouse</td>\n",
       "      <td>Prof-specialty</td>\n",
       "      <td>Wife</td>\n",
       "      <td>Black</td>\n",
       "      <td>Female</td>\n",
       "      <td>0</td>\n",
       "      <td>0</td>\n",
       "      <td>40</td>\n",
       "      <td>Cuba</td>\n",
       "      <td>&lt;=50K</td>\n",
       "    </tr>\n",
       "  </tbody>\n",
       "</table>\n",
       "</div>"
      ],
      "text/plain": [
       "   age          workclass   education  education_num       marital_status  \\\n",
       "0   39          State-gov   Bachelors             13        Never-married   \n",
       "1   50   Self-emp-not-inc   Bachelors             13   Married-civ-spouse   \n",
       "2   38            Private     HS-grad              9             Divorced   \n",
       "3   53            Private        11th              7   Married-civ-spouse   \n",
       "4   28            Private   Bachelors             13   Married-civ-spouse   \n",
       "\n",
       "           occupation    relationship    race   gender  capital_gain  \\\n",
       "0        Adm-clerical   Not-in-family   White     Male          2174   \n",
       "1     Exec-managerial         Husband   White     Male             0   \n",
       "2   Handlers-cleaners   Not-in-family   White     Male             0   \n",
       "3   Handlers-cleaners         Husband   Black     Male             0   \n",
       "4      Prof-specialty            Wife   Black   Female             0   \n",
       "\n",
       "   capital_loss  hours_per_week  native_country income_bracket  \n",
       "0             0              40   United-States          <=50K  \n",
       "1             0              13   United-States          <=50K  \n",
       "2             0              40   United-States          <=50K  \n",
       "3             0              40   United-States          <=50K  \n",
       "4             0              40            Cuba          <=50K  "
      ]
     },
     "execution_count": 11,
     "metadata": {},
     "output_type": "execute_result"
    }
   ],
   "source": [
    "census.head()"
   ]
  },
  {
   "cell_type": "markdown",
   "metadata": {},
   "source": [
    "#### TensorFlow won't be able to understand strings as labels, so we will convert the Label column to 0s and 1s instead of strings."
   ]
  },
  {
   "cell_type": "code",
   "execution_count": 12,
   "metadata": {},
   "outputs": [
    {
     "data": {
      "text/plain": [
       "array([' <=50K', ' >50K'], dtype=object)"
      ]
     },
     "execution_count": 12,
     "metadata": {},
     "output_type": "execute_result"
    }
   ],
   "source": [
    "census['income_bracket'].unique()"
   ]
  },
  {
   "cell_type": "code",
   "execution_count": 13,
   "metadata": {
    "collapsed": true
   },
   "outputs": [],
   "source": [
    "def label_fix(label):\n",
    "    if label==' <=50K':\n",
    "        return 0\n",
    "    else:\n",
    "        return 1"
   ]
  },
  {
   "cell_type": "code",
   "execution_count": 14,
   "metadata": {
    "collapsed": true
   },
   "outputs": [],
   "source": [
    "census['income_bracket'] = census['income_bracket'].apply(label_fix)"
   ]
  },
  {
   "cell_type": "code",
   "execution_count": 15,
   "metadata": {},
   "outputs": [
    {
     "data": {
      "text/plain": [
       "array([0, 1], dtype=int64)"
      ]
     },
     "execution_count": 15,
     "metadata": {},
     "output_type": "execute_result"
    }
   ],
   "source": [
    "census['income_bracket'].unique()"
   ]
  },
  {
   "cell_type": "markdown",
   "metadata": {},
   "source": [
    "### Perform a Train Test Split on the Data"
   ]
  },
  {
   "cell_type": "code",
   "execution_count": 16,
   "metadata": {
    "collapsed": true
   },
   "outputs": [],
   "source": [
    "from sklearn.model_selection import train_test_split"
   ]
  },
  {
   "cell_type": "code",
   "execution_count": 17,
   "metadata": {
    "collapsed": true
   },
   "outputs": [],
   "source": [
    "x_data = census.drop('income_bracket',axis=1)\n",
    "y_labels = census['income_bracket']\n",
    "X_train, X_test, y_train, y_test = train_test_split(x_data,y_labels,\n",
    "                                                    test_size=0.3,\n",
    "                                                    random_state=101)"
   ]
  },
  {
   "cell_type": "markdown",
   "metadata": {},
   "source": [
    "### Create the Feature Columns for tf.esitmator"
   ]
  },
  {
   "cell_type": "markdown",
   "metadata": {},
   "source": [
    "##### Take note of categorical vs continuous values!"
   ]
  },
  {
   "cell_type": "code",
   "execution_count": 18,
   "metadata": {},
   "outputs": [
    {
     "data": {
      "text/plain": [
       "Index(['age', 'workclass', 'education', 'education_num', 'marital_status',\n",
       "       'occupation', 'relationship', 'race', 'gender', 'capital_gain',\n",
       "       'capital_loss', 'hours_per_week', 'native_country', 'income_bracket'],\n",
       "      dtype='object')"
      ]
     },
     "execution_count": 18,
     "metadata": {},
     "output_type": "execute_result"
    }
   ],
   "source": [
    "census.columns"
   ]
  },
  {
   "cell_type": "markdown",
   "metadata": {},
   "source": [
    "##### Import Tensorflow"
   ]
  },
  {
   "cell_type": "code",
   "execution_count": 19,
   "metadata": {
    "collapsed": true
   },
   "outputs": [],
   "source": [
    "import tensorflow as tf"
   ]
  },
  {
   "cell_type": "markdown",
   "metadata": {},
   "source": [
    "##### Create the tf.feature_columns for the categorical values"
   ]
  },
  {
   "cell_type": "code",
   "execution_count": 20,
   "metadata": {
    "collapsed": true
   },
   "outputs": [],
   "source": [
    "gender = tf.feature_column.categorical_column_with_vocabulary_list(\n",
    "    \"gender\",[\"Female\", \"Male\"])\n",
    "occupation = tf.feature_column.categorical_column_with_hash_bucket(\n",
    "    \"occupation\",hash_bucket_size=1000)\n",
    "marital_status = tf.feature_column.categorical_column_with_hash_bucket(\n",
    "    \"marital_status\", hash_bucket_size=1000)\n",
    "relationship = tf.feature_column.categorical_column_with_hash_bucket(\n",
    "    \"relationship\", hash_bucket_size=1000)\n",
    "education = tf.feature_column.categorical_column_with_hash_bucket(\n",
    "    \"education\", hash_bucket_size=1000)\n",
    "workclass = tf.feature_column.categorical_column_with_hash_bucket(\n",
    "    \"workclass\", hash_bucket_size=1000)\n",
    "native_country = tf.feature_column.categorical_column_with_hash_bucket(\n",
    "    \"native_country\", hash_bucket_size=1000)"
   ]
  },
  {
   "cell_type": "markdown",
   "metadata": {},
   "source": [
    "##### Create the continuous feature_columns for the continuous values using numeric_column"
   ]
  },
  {
   "cell_type": "code",
   "execution_count": 21,
   "metadata": {
    "collapsed": true
   },
   "outputs": [],
   "source": [
    "age = tf.feature_column.numeric_column(\"age\")\n",
    "education_num = tf.feature_column.numeric_column(\"education_num\")\n",
    "capital_gain = tf.feature_column.numeric_column(\"capital_gain\")\n",
    "capital_loss = tf.feature_column.numeric_column(\"capital_loss\")\n",
    "hours_per_week = tf.feature_column.numeric_column(\"hours_per_week\")"
   ]
  },
  {
   "cell_type": "markdown",
   "metadata": {},
   "source": [
    "##### Put all these variables into a single list with the variable name feat_cols"
   ]
  },
  {
   "cell_type": "code",
   "execution_count": 22,
   "metadata": {
    "collapsed": true
   },
   "outputs": [],
   "source": [
    "feat_cols = [gender,occupation,marital_status,relationship,education,workclass,\n",
    "             native_country,age,education_num,capital_gain,capital_loss,\n",
    "             hours_per_week]"
   ]
  },
  {
   "cell_type": "markdown",
   "metadata": {},
   "source": [
    "### Create Input Function"
   ]
  },
  {
   "cell_type": "code",
   "execution_count": 23,
   "metadata": {
    "collapsed": true
   },
   "outputs": [],
   "source": [
    "input_func = tf.estimator.inputs.pandas_input_fn(x=X_train,y=y_train,\n",
    "                                                 batch_size=100,\n",
    "                                                 num_epochs=None,\n",
    "                                                 shuffle=True)"
   ]
  },
  {
   "cell_type": "markdown",
   "metadata": {},
   "source": [
    "##### Create the model with tf.estimator (LinearClassifier)"
   ]
  },
  {
   "cell_type": "code",
   "execution_count": 24,
   "metadata": {},
   "outputs": [
    {
     "name": "stdout",
     "output_type": "stream",
     "text": [
      "INFO:tensorflow:Using default config.\n",
      "WARNING:tensorflow:Using temporary folder as model directory: C:\\Users\\DELL\\AppData\\Local\\Temp\\tmphd39etm0\n",
      "INFO:tensorflow:Using config: {'_model_dir': 'C:\\\\Users\\\\DELL\\\\AppData\\\\Local\\\\Temp\\\\tmphd39etm0', '_tf_random_seed': None, '_save_summary_steps': 100, '_save_checkpoints_steps': None, '_save_checkpoints_secs': 600, '_session_config': None, '_keep_checkpoint_max': 5, '_keep_checkpoint_every_n_hours': 10000, '_log_step_count_steps': 100, '_service': None, '_cluster_spec': <tensorflow.python.training.server_lib.ClusterSpec object at 0x0000002A2ACC6E10>, '_task_type': 'worker', '_task_id': 0, '_master': '', '_is_chief': True, '_num_ps_replicas': 0, '_num_worker_replicas': 1}\n"
     ]
    }
   ],
   "source": [
    "model = tf.estimator.LinearClassifier(feature_columns=feat_cols)"
   ]
  },
  {
   "cell_type": "markdown",
   "metadata": {},
   "source": [
    "##### Train the model on the Data, for 5000 steps"
   ]
  },
  {
   "cell_type": "code",
   "execution_count": 25,
   "metadata": {},
   "outputs": [
    {
     "name": "stdout",
     "output_type": "stream",
     "text": [
      "INFO:tensorflow:Create CheckpointSaverHook.\n",
      "INFO:tensorflow:Saving checkpoints for 1 into C:\\Users\\DELL\\AppData\\Local\\Temp\\tmphd39etm0\\model.ckpt.\n",
      "INFO:tensorflow:loss = 69.3147, step = 1\n",
      "INFO:tensorflow:global_step/sec: 168.08\n",
      "INFO:tensorflow:loss = 343.425, step = 101 (0.599 sec)\n",
      "INFO:tensorflow:global_step/sec: 281.338\n",
      "INFO:tensorflow:loss = 113.153, step = 201 (0.355 sec)\n",
      "INFO:tensorflow:global_step/sec: 254.424\n",
      "INFO:tensorflow:loss = 78.6489, step = 301 (0.394 sec)\n",
      "INFO:tensorflow:global_step/sec: 264.268\n",
      "INFO:tensorflow:loss = 60.7092, step = 401 (0.378 sec)\n",
      "INFO:tensorflow:global_step/sec: 285.362\n",
      "INFO:tensorflow:loss = 56.0403, step = 501 (0.350 sec)\n",
      "INFO:tensorflow:global_step/sec: 295.071\n",
      "INFO:tensorflow:loss = 91.9415, step = 601 (0.339 sec)\n",
      "INFO:tensorflow:global_step/sec: 300.854\n",
      "INFO:tensorflow:loss = 27.7362, step = 701 (0.332 sec)\n",
      "INFO:tensorflow:global_step/sec: 284.953\n",
      "INFO:tensorflow:loss = 202.947, step = 801 (0.351 sec)\n",
      "INFO:tensorflow:global_step/sec: 286.276\n",
      "INFO:tensorflow:loss = 133.695, step = 901 (0.349 sec)\n",
      "INFO:tensorflow:global_step/sec: 295.071\n",
      "INFO:tensorflow:loss = 311.527, step = 1001 (0.339 sec)\n",
      "INFO:tensorflow:global_step/sec: 271.284\n",
      "INFO:tensorflow:loss = 56.3449, step = 1101 (0.369 sec)\n",
      "INFO:tensorflow:global_step/sec: 250.588\n",
      "INFO:tensorflow:loss = 47.9128, step = 1201 (0.401 sec)\n",
      "INFO:tensorflow:global_step/sec: 242.957\n",
      "INFO:tensorflow:loss = 34.5754, step = 1301 (0.414 sec)\n",
      "INFO:tensorflow:global_step/sec: 287.418\n",
      "INFO:tensorflow:loss = 51.5021, step = 1401 (0.344 sec)\n",
      "INFO:tensorflow:global_step/sec: 300.401\n",
      "INFO:tensorflow:loss = 56.6525, step = 1501 (0.333 sec)\n",
      "INFO:tensorflow:global_step/sec: 299.484\n",
      "INFO:tensorflow:loss = 129.215, step = 1601 (0.332 sec)\n",
      "INFO:tensorflow:global_step/sec: 297.269\n",
      "INFO:tensorflow:loss = 95.1743, step = 1701 (0.338 sec)\n",
      "INFO:tensorflow:global_step/sec: 251.311\n",
      "INFO:tensorflow:loss = 157.886, step = 1801 (0.398 sec)\n",
      "INFO:tensorflow:global_step/sec: 262.811\n",
      "INFO:tensorflow:loss = 97.9833, step = 1901 (0.380 sec)\n",
      "INFO:tensorflow:global_step/sec: 293.334\n",
      "INFO:tensorflow:loss = 47.5423, step = 2001 (0.340 sec)\n",
      "INFO:tensorflow:global_step/sec: 281.338\n",
      "INFO:tensorflow:loss = 36.3391, step = 2101 (0.356 sec)\n",
      "INFO:tensorflow:global_step/sec: 282.133\n",
      "INFO:tensorflow:loss = 425.897, step = 2201 (0.354 sec)\n",
      "INFO:tensorflow:global_step/sec: 294.2\n",
      "INFO:tensorflow:loss = 274.893, step = 2301 (0.343 sec)\n",
      "INFO:tensorflow:global_step/sec: 275.129\n",
      "INFO:tensorflow:loss = 176.666, step = 2401 (0.361 sec)\n",
      "INFO:tensorflow:global_step/sec: 290.16\n",
      "INFO:tensorflow:loss = 70.1193, step = 2501 (0.345 sec)\n",
      "INFO:tensorflow:global_step/sec: 283.886\n",
      "INFO:tensorflow:loss = 227.321, step = 2601 (0.352 sec)\n",
      "INFO:tensorflow:global_step/sec: 295.2\n",
      "INFO:tensorflow:loss = 339.602, step = 2701 (0.339 sec)\n",
      "INFO:tensorflow:global_step/sec: 298.159\n",
      "INFO:tensorflow:loss = 56.6977, step = 2801 (0.335 sec)\n",
      "INFO:tensorflow:global_step/sec: 292.904\n",
      "INFO:tensorflow:loss = 42.8753, step = 2901 (0.342 sec)\n",
      "INFO:tensorflow:global_step/sec: 290.429\n",
      "INFO:tensorflow:loss = 39.4871, step = 3001 (0.343 sec)\n",
      "INFO:tensorflow:global_step/sec: 273.244\n",
      "INFO:tensorflow:loss = 37.2008, step = 3101 (0.367 sec)\n",
      "INFO:tensorflow:global_step/sec: 292.475\n",
      "INFO:tensorflow:loss = 608.344, step = 3201 (0.342 sec)\n",
      "INFO:tensorflow:global_step/sec: 266.668\n",
      "INFO:tensorflow:loss = 38.7863, step = 3301 (0.373 sec)\n",
      "INFO:tensorflow:global_step/sec: 269.916\n",
      "INFO:tensorflow:loss = 97.2443, step = 3401 (0.370 sec)\n",
      "INFO:tensorflow:global_step/sec: 292.047\n",
      "INFO:tensorflow:loss = 97.0952, step = 3501 (0.343 sec)\n",
      "INFO:tensorflow:global_step/sec: 260.062\n",
      "INFO:tensorflow:loss = 41.7583, step = 3601 (0.387 sec)\n",
      "INFO:tensorflow:global_step/sec: 289.504\n",
      "INFO:tensorflow:loss = 42.4794, step = 3701 (0.342 sec)\n",
      "INFO:tensorflow:global_step/sec: 289.085\n",
      "INFO:tensorflow:loss = 81.957, step = 3801 (0.347 sec)\n",
      "INFO:tensorflow:global_step/sec: 273.243\n",
      "INFO:tensorflow:loss = 29.4515, step = 3901 (0.365 sec)\n",
      "INFO:tensorflow:global_step/sec: 280.938\n",
      "INFO:tensorflow:loss = 33.5829, step = 4001 (0.357 sec)\n",
      "INFO:tensorflow:global_step/sec: 299.459\n",
      "INFO:tensorflow:loss = 103.37, step = 4101 (0.333 sec)\n",
      "INFO:tensorflow:global_step/sec: 273.995\n",
      "INFO:tensorflow:loss = 67.7202, step = 4201 (0.364 sec)\n",
      "INFO:tensorflow:global_step/sec: 280.546\n",
      "INFO:tensorflow:loss = 71.9568, step = 4301 (0.357 sec)\n",
      "INFO:tensorflow:global_step/sec: 272.126\n",
      "INFO:tensorflow:loss = 35.866, step = 4401 (0.368 sec)\n",
      "INFO:tensorflow:global_step/sec: 269.916\n",
      "INFO:tensorflow:loss = 83.3985, step = 4501 (0.369 sec)\n",
      "INFO:tensorflow:global_step/sec: 288.665\n",
      "INFO:tensorflow:loss = 69.2387, step = 4601 (0.346 sec)\n",
      "INFO:tensorflow:global_step/sec: 297.713\n",
      "INFO:tensorflow:loss = 78.3916, step = 4701 (0.337 sec)\n",
      "INFO:tensorflow:global_step/sec: 261.638\n",
      "INFO:tensorflow:loss = 41.9503, step = 4801 (0.382 sec)\n",
      "INFO:tensorflow:global_step/sec: 264.898\n",
      "INFO:tensorflow:loss = 126.531, step = 4901 (0.377 sec)\n",
      "INFO:tensorflow:Saving checkpoints for 5000 into C:\\Users\\DELL\\AppData\\Local\\Temp\\tmphd39etm0\\model.ckpt.\n",
      "INFO:tensorflow:Loss for final step: 58.3278.\n"
     ]
    },
    {
     "data": {
      "text/plain": [
       "<tensorflow.python.estimator.canned.linear.LinearClassifier at 0x2a34dab748>"
      ]
     },
     "execution_count": 25,
     "metadata": {},
     "output_type": "execute_result"
    }
   ],
   "source": [
    "model.train(input_fn = input_func,steps=5000)"
   ]
  },
  {
   "cell_type": "markdown",
   "metadata": {},
   "source": [
    "### Evaluation"
   ]
  },
  {
   "cell_type": "markdown",
   "metadata": {},
   "source": [
    "##### Create a prediction input function"
   ]
  },
  {
   "cell_type": "code",
   "execution_count": 26,
   "metadata": {
    "collapsed": true
   },
   "outputs": [],
   "source": [
    "pred_fn = tf.estimator.inputs.pandas_input_fn(x=X_test,batch_size=len(X_test),\n",
    "                                              shuffle=False)"
   ]
  },
  {
   "cell_type": "markdown",
   "metadata": {},
   "source": [
    "##### We will use model.predict() and pass in the input function. This will produce a generator of predictions, which we can then transform into a list, with list()"
   ]
  },
  {
   "cell_type": "code",
   "execution_count": 27,
   "metadata": {},
   "outputs": [
    {
     "name": "stdout",
     "output_type": "stream",
     "text": [
      "INFO:tensorflow:Restoring parameters from C:\\Users\\DELL\\AppData\\Local\\Temp\\tmphd39etm0\\model.ckpt-5000\n"
     ]
    }
   ],
   "source": [
    "predictions = list(model.predict(input_fn=pred_fn))"
   ]
  },
  {
   "cell_type": "markdown",
   "metadata": {},
   "source": [
    "##### Each item in the list will look like this:"
   ]
  },
  {
   "cell_type": "code",
   "execution_count": 28,
   "metadata": {},
   "outputs": [
    {
     "data": {
      "text/plain": [
       "{'class_ids': array([0], dtype=int64),\n",
       " 'classes': array([b'0'], dtype=object),\n",
       " 'logistic': array([ 0.37067723], dtype=float32),\n",
       " 'logits': array([-0.52931267], dtype=float32),\n",
       " 'probabilities': array([ 0.62932283,  0.3706772 ], dtype=float32)}"
      ]
     },
     "execution_count": 28,
     "metadata": {},
     "output_type": "execute_result"
    }
   ],
   "source": [
    "predictions[0]"
   ]
  },
  {
   "cell_type": "markdown",
   "metadata": {},
   "source": [
    "##### Create a list of only the class_ids key values from the prediction list of dictionaries, these are the predictions we will use to compare against the real y_test values."
   ]
  },
  {
   "cell_type": "code",
   "execution_count": 29,
   "metadata": {
    "collapsed": true
   },
   "outputs": [],
   "source": [
    "final_preds = []\n",
    "for pred in predictions:\n",
    "    final_preds.append(pred['class_ids'][0])"
   ]
  },
  {
   "cell_type": "code",
   "execution_count": 30,
   "metadata": {},
   "outputs": [
    {
     "data": {
      "text/plain": [
       "[0, 0, 0, 0, 1, 0, 0, 0, 0, 0]"
      ]
     },
     "execution_count": 30,
     "metadata": {},
     "output_type": "execute_result"
    }
   ],
   "source": [
    "final_preds[:10]"
   ]
  },
  {
   "cell_type": "markdown",
   "metadata": {},
   "source": [
    "##### Import classification_report from sklearn.metrics and then see if we can figure out how to use it to easily get a full report of our model's performance on the test data"
   ]
  },
  {
   "cell_type": "code",
   "execution_count": 31,
   "metadata": {
    "collapsed": true
   },
   "outputs": [],
   "source": [
    "from sklearn.metrics import classification_report\n"
   ]
  },
  {
   "cell_type": "code",
   "execution_count": 52,
   "metadata": {},
   "outputs": [
    {
     "name": "stdout",
     "output_type": "stream",
     "text": [
      "             precision    recall  f1-score   support\n",
      "\n",
      "          0       0.88      0.93      0.91      7436\n",
      "          1       0.73      0.60      0.66      2333\n",
      "\n",
      "avg / total       0.85      0.85      0.85      9769\n",
      "\n"
     ]
    }
   ],
   "source": [
    "print(classification_report(y_test,final_preds))"
   ]
  }
 ],
 "metadata": {
  "kernelspec": {
   "display_name": "Python 3",
   "language": "python",
   "name": "python3"
  },
  "language_info": {
   "codemirror_mode": {
    "name": "ipython",
    "version": 3
   },
   "file_extension": ".py",
   "mimetype": "text/x-python",
   "name": "python",
   "nbconvert_exporter": "python",
   "pygments_lexer": "ipython3",
   "version": "3.6.3"
  }
 },
 "nbformat": 4,
 "nbformat_minor": 2
}
